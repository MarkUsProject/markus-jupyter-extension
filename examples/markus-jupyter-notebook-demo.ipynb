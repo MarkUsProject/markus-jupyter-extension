{
 "cells": [
  {
   "cell_type": "code",
   "execution_count": null,
   "id": "d2023133",
   "metadata": {},
   "outputs": [],
   "source": [
    "# This cell displays the metadata for the notebook.\n",
    "\n",
    "import nbformat\n",
    "nb = nbformat.read('markus-jupyter-notebook-demo.ipynb', as_version=4)\n",
    "\n",
    "import pprint\n",
    "pprint.pprint(nb.metadata)"
   ]
  }
 ],
 "metadata": {
  "kernelspec": {
   "display_name": "Python 3 (ipykernel)",
   "language": "python",
   "name": "python3"
  },
  "language_info": {
   "codemirror_mode": {
    "name": "ipython",
    "version": 3
   },
   "file_extension": ".py",
   "mimetype": "text/x-python",
   "name": "python",
   "nbconvert_exporter": "python",
   "pygments_lexer": "ipython3",
   "version": "3.10.5"
  },
  "markus": {
   "assessment_id": 1,
   "course_id": 1,
   "url": "http://localhost:3000/csc108"
  }
 },
 "nbformat": 4,
 "nbformat_minor": 5
}
